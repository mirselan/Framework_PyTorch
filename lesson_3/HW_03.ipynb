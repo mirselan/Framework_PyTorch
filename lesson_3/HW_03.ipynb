{
  "cells": [
    {
      "cell_type": "markdown",
      "metadata": {
        "id": "SCl162BUWreN"
      },
      "source": [
        "# Попрактикуемся с тем, что изучили\n",
        "\n",
        "Будем практиковаться на датасете:\n",
        "https://www.kaggle.com/c/avito-demand-prediction\n",
        "\n",
        "Ваша задача:\n",
        "1. Создать Dataset для загрузки данных (используем только числовые данные)\n",
        "2. Обернуть его в Dataloader\n",
        "3. Написать архитектуру сети, которая предсказывает число показов на основании числовых данных (вы всегда можете нагенерить дополнительных факторов). Сеть должна включать BatchNorm слои и Dropout (или НЕ включать, но нужно обосновать)\n",
        "4. Учить будем на функцию потерь с кагла (log RMSE) - нужно её реализовать\n",
        "5. Сравните сходимость Adam, RMSProp и SGD, сделайте вывод по качеству работы модели\n",
        "\n",
        "train-test разделение нужно сделать с помощью sklearn random_state=13, test_size = 0.25\n",
        "\n",
        "Вопросы? в личку @Kinetikm"
      ]
    },
    {
      "cell_type": "code",
      "source": [
        "# Импорт необходимых библиотек\n",
        "import torch\n",
        "from torch.utils.data import Dataset, DataLoader\n",
        "import matplotlib.pyplot as plt\n",
        "from sklearn.model_selection import train_test_split\n",
        "import copy\n",
        "import datetime as dt\n",
        "import pandas as pd\n",
        "import numpy as np\n",
        "\n",
        "import torch.nn.functional as F\n",
        "import torch.nn as nn"
      ],
      "metadata": {
        "id": "yrDOrIQzgu0K"
      },
      "execution_count": 66,
      "outputs": []
    },
    {
      "cell_type": "code",
      "source": [
        "# Монтируем ГуглДиск\n",
        "from google.colab import drive\n",
        "drive.mount('/content/drive')"
      ],
      "metadata": {
        "colab": {
          "base_uri": "https://localhost:8080/"
        },
        "id": "JuvV9i7gnq8n",
        "outputId": "f6c98523-c182-4fa7-b86f-f99aab66f552"
      },
      "execution_count": 67,
      "outputs": [
        {
          "output_type": "stream",
          "name": "stdout",
          "text": [
            "Drive already mounted at /content/drive; to attempt to forcibly remount, call drive.mount(\"/content/drive\", force_remount=True).\n"
          ]
        }
      ]
    },
    {
      "cell_type": "code",
      "source": [
        "!unzip '/content/drive/MyDrive/Нейронные сети/Фреймворк_PyTorch/train.csv.zip' "
      ],
      "metadata": {
        "colab": {
          "base_uri": "https://localhost:8080/"
        },
        "id": "zdyIxHzqr5Cy",
        "outputId": "d4283edb-bed3-44d7-ed26-26390fd3eb9e"
      },
      "execution_count": 68,
      "outputs": [
        {
          "output_type": "stream",
          "name": "stdout",
          "text": [
            "Archive:  /content/drive/MyDrive/Нейронные сети/Фреймворк_PyTorch/train.csv.zip\n",
            "replace train.csv? [y]es, [n]o, [A]ll, [N]one, [r]ename: y\n",
            "  inflating: train.csv               \n"
          ]
        }
      ]
    },
    {
      "cell_type": "code",
      "source": [
        "train = pd.read_csv('train.csv')"
      ],
      "metadata": {
        "id": "iwyCfk-Bt0fN"
      },
      "execution_count": 69,
      "outputs": []
    },
    {
      "cell_type": "code",
      "source": [
        "train.head()"
      ],
      "metadata": {
        "colab": {
          "base_uri": "https://localhost:8080/",
          "height": 426
        },
        "id": "ZM1fpQrVt0hV",
        "outputId": "afd7a945-4edc-4176-9b9b-15106d7bef74"
      },
      "execution_count": 70,
      "outputs": [
        {
          "output_type": "execute_result",
          "data": {
            "text/plain": [
              "        item_id       user_id                 region              city  \\\n",
              "0  b912c3c6a6ad  e00f8ff2eaf9   Свердловская область      Екатеринбург   \n",
              "1  2dac0150717d  39aeb48f0017      Самарская область            Самара   \n",
              "2  ba83aefab5dc  91e2f88dd6e3     Ростовская область    Ростов-на-Дону   \n",
              "3  02996f1dd2ea  bf5cccea572d              Татарстан  Набережные Челны   \n",
              "4  7c90be56d2ab  ef50846afc0b  Волгоградская область         Волгоград   \n",
              "\n",
              "  parent_category_name               category_name  \\\n",
              "0          Личные вещи  Товары для детей и игрушки   \n",
              "1      Для дома и дачи           Мебель и интерьер   \n",
              "2  Бытовая электроника               Аудио и видео   \n",
              "3          Личные вещи  Товары для детей и игрушки   \n",
              "4            Транспорт                  Автомобили   \n",
              "\n",
              "                       param_1     param_2 param_3                  title  \\\n",
              "0    Постельные принадлежности         NaN     NaN  Кокоби(кокон для сна)   \n",
              "1                       Другое         NaN     NaN      Стойка для Одежды   \n",
              "2  Видео, DVD и Blu-ray плееры         NaN     NaN         Philips bluray   \n",
              "3         Автомобильные кресла         NaN     NaN             Автокресло   \n",
              "4                   С пробегом  ВАЗ (LADA)    2110         ВАЗ 2110, 2003   \n",
              "\n",
              "                                         description    price  \\\n",
              "0  Кокон для сна малыша,пользовались меньше месяц...    400.0   \n",
              "1          Стойка для одежды, под вешалки. С бутика.   3000.0   \n",
              "2  В хорошем состоянии, домашний кинотеатр с blu ...   4000.0   \n",
              "3                             Продам кресло от0-25кг   2200.0   \n",
              "4                           Все вопросы по телефону.  40000.0   \n",
              "\n",
              "   item_seq_number activation_date user_type  \\\n",
              "0                2      2017-03-28   Private   \n",
              "1               19      2017-03-26   Private   \n",
              "2                9      2017-03-20   Private   \n",
              "3              286      2017-03-25   Company   \n",
              "4                3      2017-03-16   Private   \n",
              "\n",
              "                                               image  image_top_1  \\\n",
              "0  d10c7e016e03247a3bf2d13348fe959fe6f436c1caf64c...       1008.0   \n",
              "1  79c9392cc51a9c81c6eb91eceb8e552171db39d7142700...        692.0   \n",
              "2  b7f250ee3f39e1fedd77c141f273703f4a9be59db4b48a...       3032.0   \n",
              "3  e6ef97e0725637ea84e3d203e82dadb43ed3cc0a1c8413...        796.0   \n",
              "4  54a687a3a0fc1d68aed99bdaaf551c5c70b761b16fd0a2...       2264.0   \n",
              "\n",
              "   deal_probability  \n",
              "0           0.12789  \n",
              "1           0.00000  \n",
              "2           0.43177  \n",
              "3           0.80323  \n",
              "4           0.20797  "
            ],
            "text/html": [
              "\n",
              "  <div id=\"df-af984d41-99f6-4f88-907c-183c9175e938\">\n",
              "    <div class=\"colab-df-container\">\n",
              "      <div>\n",
              "<style scoped>\n",
              "    .dataframe tbody tr th:only-of-type {\n",
              "        vertical-align: middle;\n",
              "    }\n",
              "\n",
              "    .dataframe tbody tr th {\n",
              "        vertical-align: top;\n",
              "    }\n",
              "\n",
              "    .dataframe thead th {\n",
              "        text-align: right;\n",
              "    }\n",
              "</style>\n",
              "<table border=\"1\" class=\"dataframe\">\n",
              "  <thead>\n",
              "    <tr style=\"text-align: right;\">\n",
              "      <th></th>\n",
              "      <th>item_id</th>\n",
              "      <th>user_id</th>\n",
              "      <th>region</th>\n",
              "      <th>city</th>\n",
              "      <th>parent_category_name</th>\n",
              "      <th>category_name</th>\n",
              "      <th>param_1</th>\n",
              "      <th>param_2</th>\n",
              "      <th>param_3</th>\n",
              "      <th>title</th>\n",
              "      <th>description</th>\n",
              "      <th>price</th>\n",
              "      <th>item_seq_number</th>\n",
              "      <th>activation_date</th>\n",
              "      <th>user_type</th>\n",
              "      <th>image</th>\n",
              "      <th>image_top_1</th>\n",
              "      <th>deal_probability</th>\n",
              "    </tr>\n",
              "  </thead>\n",
              "  <tbody>\n",
              "    <tr>\n",
              "      <th>0</th>\n",
              "      <td>b912c3c6a6ad</td>\n",
              "      <td>e00f8ff2eaf9</td>\n",
              "      <td>Свердловская область</td>\n",
              "      <td>Екатеринбург</td>\n",
              "      <td>Личные вещи</td>\n",
              "      <td>Товары для детей и игрушки</td>\n",
              "      <td>Постельные принадлежности</td>\n",
              "      <td>NaN</td>\n",
              "      <td>NaN</td>\n",
              "      <td>Кокоби(кокон для сна)</td>\n",
              "      <td>Кокон для сна малыша,пользовались меньше месяц...</td>\n",
              "      <td>400.0</td>\n",
              "      <td>2</td>\n",
              "      <td>2017-03-28</td>\n",
              "      <td>Private</td>\n",
              "      <td>d10c7e016e03247a3bf2d13348fe959fe6f436c1caf64c...</td>\n",
              "      <td>1008.0</td>\n",
              "      <td>0.12789</td>\n",
              "    </tr>\n",
              "    <tr>\n",
              "      <th>1</th>\n",
              "      <td>2dac0150717d</td>\n",
              "      <td>39aeb48f0017</td>\n",
              "      <td>Самарская область</td>\n",
              "      <td>Самара</td>\n",
              "      <td>Для дома и дачи</td>\n",
              "      <td>Мебель и интерьер</td>\n",
              "      <td>Другое</td>\n",
              "      <td>NaN</td>\n",
              "      <td>NaN</td>\n",
              "      <td>Стойка для Одежды</td>\n",
              "      <td>Стойка для одежды, под вешалки. С бутика.</td>\n",
              "      <td>3000.0</td>\n",
              "      <td>19</td>\n",
              "      <td>2017-03-26</td>\n",
              "      <td>Private</td>\n",
              "      <td>79c9392cc51a9c81c6eb91eceb8e552171db39d7142700...</td>\n",
              "      <td>692.0</td>\n",
              "      <td>0.00000</td>\n",
              "    </tr>\n",
              "    <tr>\n",
              "      <th>2</th>\n",
              "      <td>ba83aefab5dc</td>\n",
              "      <td>91e2f88dd6e3</td>\n",
              "      <td>Ростовская область</td>\n",
              "      <td>Ростов-на-Дону</td>\n",
              "      <td>Бытовая электроника</td>\n",
              "      <td>Аудио и видео</td>\n",
              "      <td>Видео, DVD и Blu-ray плееры</td>\n",
              "      <td>NaN</td>\n",
              "      <td>NaN</td>\n",
              "      <td>Philips bluray</td>\n",
              "      <td>В хорошем состоянии, домашний кинотеатр с blu ...</td>\n",
              "      <td>4000.0</td>\n",
              "      <td>9</td>\n",
              "      <td>2017-03-20</td>\n",
              "      <td>Private</td>\n",
              "      <td>b7f250ee3f39e1fedd77c141f273703f4a9be59db4b48a...</td>\n",
              "      <td>3032.0</td>\n",
              "      <td>0.43177</td>\n",
              "    </tr>\n",
              "    <tr>\n",
              "      <th>3</th>\n",
              "      <td>02996f1dd2ea</td>\n",
              "      <td>bf5cccea572d</td>\n",
              "      <td>Татарстан</td>\n",
              "      <td>Набережные Челны</td>\n",
              "      <td>Личные вещи</td>\n",
              "      <td>Товары для детей и игрушки</td>\n",
              "      <td>Автомобильные кресла</td>\n",
              "      <td>NaN</td>\n",
              "      <td>NaN</td>\n",
              "      <td>Автокресло</td>\n",
              "      <td>Продам кресло от0-25кг</td>\n",
              "      <td>2200.0</td>\n",
              "      <td>286</td>\n",
              "      <td>2017-03-25</td>\n",
              "      <td>Company</td>\n",
              "      <td>e6ef97e0725637ea84e3d203e82dadb43ed3cc0a1c8413...</td>\n",
              "      <td>796.0</td>\n",
              "      <td>0.80323</td>\n",
              "    </tr>\n",
              "    <tr>\n",
              "      <th>4</th>\n",
              "      <td>7c90be56d2ab</td>\n",
              "      <td>ef50846afc0b</td>\n",
              "      <td>Волгоградская область</td>\n",
              "      <td>Волгоград</td>\n",
              "      <td>Транспорт</td>\n",
              "      <td>Автомобили</td>\n",
              "      <td>С пробегом</td>\n",
              "      <td>ВАЗ (LADA)</td>\n",
              "      <td>2110</td>\n",
              "      <td>ВАЗ 2110, 2003</td>\n",
              "      <td>Все вопросы по телефону.</td>\n",
              "      <td>40000.0</td>\n",
              "      <td>3</td>\n",
              "      <td>2017-03-16</td>\n",
              "      <td>Private</td>\n",
              "      <td>54a687a3a0fc1d68aed99bdaaf551c5c70b761b16fd0a2...</td>\n",
              "      <td>2264.0</td>\n",
              "      <td>0.20797</td>\n",
              "    </tr>\n",
              "  </tbody>\n",
              "</table>\n",
              "</div>\n",
              "      <button class=\"colab-df-convert\" onclick=\"convertToInteractive('df-af984d41-99f6-4f88-907c-183c9175e938')\"\n",
              "              title=\"Convert this dataframe to an interactive table.\"\n",
              "              style=\"display:none;\">\n",
              "        \n",
              "  <svg xmlns=\"http://www.w3.org/2000/svg\" height=\"24px\"viewBox=\"0 0 24 24\"\n",
              "       width=\"24px\">\n",
              "    <path d=\"M0 0h24v24H0V0z\" fill=\"none\"/>\n",
              "    <path d=\"M18.56 5.44l.94 2.06.94-2.06 2.06-.94-2.06-.94-.94-2.06-.94 2.06-2.06.94zm-11 1L8.5 8.5l.94-2.06 2.06-.94-2.06-.94L8.5 2.5l-.94 2.06-2.06.94zm10 10l.94 2.06.94-2.06 2.06-.94-2.06-.94-.94-2.06-.94 2.06-2.06.94z\"/><path d=\"M17.41 7.96l-1.37-1.37c-.4-.4-.92-.59-1.43-.59-.52 0-1.04.2-1.43.59L10.3 9.45l-7.72 7.72c-.78.78-.78 2.05 0 2.83L4 21.41c.39.39.9.59 1.41.59.51 0 1.02-.2 1.41-.59l7.78-7.78 2.81-2.81c.8-.78.8-2.07 0-2.86zM5.41 20L4 18.59l7.72-7.72 1.47 1.35L5.41 20z\"/>\n",
              "  </svg>\n",
              "      </button>\n",
              "      \n",
              "  <style>\n",
              "    .colab-df-container {\n",
              "      display:flex;\n",
              "      flex-wrap:wrap;\n",
              "      gap: 12px;\n",
              "    }\n",
              "\n",
              "    .colab-df-convert {\n",
              "      background-color: #E8F0FE;\n",
              "      border: none;\n",
              "      border-radius: 50%;\n",
              "      cursor: pointer;\n",
              "      display: none;\n",
              "      fill: #1967D2;\n",
              "      height: 32px;\n",
              "      padding: 0 0 0 0;\n",
              "      width: 32px;\n",
              "    }\n",
              "\n",
              "    .colab-df-convert:hover {\n",
              "      background-color: #E2EBFA;\n",
              "      box-shadow: 0px 1px 2px rgba(60, 64, 67, 0.3), 0px 1px 3px 1px rgba(60, 64, 67, 0.15);\n",
              "      fill: #174EA6;\n",
              "    }\n",
              "\n",
              "    [theme=dark] .colab-df-convert {\n",
              "      background-color: #3B4455;\n",
              "      fill: #D2E3FC;\n",
              "    }\n",
              "\n",
              "    [theme=dark] .colab-df-convert:hover {\n",
              "      background-color: #434B5C;\n",
              "      box-shadow: 0px 1px 3px 1px rgba(0, 0, 0, 0.15);\n",
              "      filter: drop-shadow(0px 1px 2px rgba(0, 0, 0, 0.3));\n",
              "      fill: #FFFFFF;\n",
              "    }\n",
              "  </style>\n",
              "\n",
              "      <script>\n",
              "        const buttonEl =\n",
              "          document.querySelector('#df-af984d41-99f6-4f88-907c-183c9175e938 button.colab-df-convert');\n",
              "        buttonEl.style.display =\n",
              "          google.colab.kernel.accessAllowed ? 'block' : 'none';\n",
              "\n",
              "        async function convertToInteractive(key) {\n",
              "          const element = document.querySelector('#df-af984d41-99f6-4f88-907c-183c9175e938');\n",
              "          const dataTable =\n",
              "            await google.colab.kernel.invokeFunction('convertToInteractive',\n",
              "                                                     [key], {});\n",
              "          if (!dataTable) return;\n",
              "\n",
              "          const docLinkHtml = 'Like what you see? Visit the ' +\n",
              "            '<a target=\"_blank\" href=https://colab.research.google.com/notebooks/data_table.ipynb>data table notebook</a>'\n",
              "            + ' to learn more about interactive tables.';\n",
              "          element.innerHTML = '';\n",
              "          dataTable['output_type'] = 'display_data';\n",
              "          await google.colab.output.renderOutput(dataTable, element);\n",
              "          const docLink = document.createElement('div');\n",
              "          docLink.innerHTML = docLinkHtml;\n",
              "          element.appendChild(docLink);\n",
              "        }\n",
              "      </script>\n",
              "    </div>\n",
              "  </div>\n",
              "  "
            ]
          },
          "metadata": {},
          "execution_count": 70
        }
      ]
    },
    {
      "cell_type": "code",
      "source": [
        "train.shape"
      ],
      "metadata": {
        "colab": {
          "base_uri": "https://localhost:8080/"
        },
        "id": "n8FaNRl9uQsv",
        "outputId": "8122c122-c7f1-49f2-e144-8d23c2180275"
      },
      "execution_count": 71,
      "outputs": [
        {
          "output_type": "execute_result",
          "data": {
            "text/plain": [
              "(1503424, 18)"
            ]
          },
          "metadata": {},
          "execution_count": 71
        }
      ]
    },
    {
      "cell_type": "code",
      "source": [
        "train.info()"
      ],
      "metadata": {
        "colab": {
          "base_uri": "https://localhost:8080/"
        },
        "id": "qtoDvzY-vPSs",
        "outputId": "349f26a5-1275-49bb-f3e4-cdfcdecc3b4c"
      },
      "execution_count": 72,
      "outputs": [
        {
          "output_type": "stream",
          "name": "stdout",
          "text": [
            "<class 'pandas.core.frame.DataFrame'>\n",
            "RangeIndex: 1503424 entries, 0 to 1503423\n",
            "Data columns (total 18 columns):\n",
            " #   Column                Non-Null Count    Dtype  \n",
            "---  ------                --------------    -----  \n",
            " 0   item_id               1503424 non-null  object \n",
            " 1   user_id               1503424 non-null  object \n",
            " 2   region                1503424 non-null  object \n",
            " 3   city                  1503424 non-null  object \n",
            " 4   parent_category_name  1503424 non-null  object \n",
            " 5   category_name         1503424 non-null  object \n",
            " 6   param_1               1441848 non-null  object \n",
            " 7   param_2               848882 non-null   object \n",
            " 8   param_3               640859 non-null   object \n",
            " 9   title                 1503424 non-null  object \n",
            " 10  description           1387148 non-null  object \n",
            " 11  price                 1418062 non-null  float64\n",
            " 12  item_seq_number       1503424 non-null  int64  \n",
            " 13  activation_date       1503424 non-null  object \n",
            " 14  user_type             1503424 non-null  object \n",
            " 15  image                 1390836 non-null  object \n",
            " 16  image_top_1           1390836 non-null  float64\n",
            " 17  deal_probability      1503424 non-null  float64\n",
            "dtypes: float64(3), int64(1), object(14)\n",
            "memory usage: 206.5+ MB\n"
          ]
        }
      ]
    },
    {
      "cell_type": "code",
      "source": [
        "# Колонки с числовыми данными\n",
        "col_list = []\n",
        "for cat_colname in train.select_dtypes(include=['int64', 'float64']).columns:\n",
        "    col_list.append(str(cat_colname))\n",
        "\n",
        "col_list"
      ],
      "metadata": {
        "colab": {
          "base_uri": "https://localhost:8080/"
        },
        "id": "IE4Vmx5AxTSF",
        "outputId": "c51ac5b5-1682-4475-bd61-dbf1ef0f5d12"
      },
      "execution_count": 73,
      "outputs": [
        {
          "output_type": "execute_result",
          "data": {
            "text/plain": [
              "['price', 'item_seq_number', 'image_top_1', 'deal_probability']"
            ]
          },
          "metadata": {},
          "execution_count": 73
        }
      ]
    },
    {
      "cell_type": "code",
      "source": [
        "# Датасет только из числовых данных\n",
        "train_num = train[col_list]\n",
        "train_num"
      ],
      "metadata": {
        "colab": {
          "base_uri": "https://localhost:8080/",
          "height": 424
        },
        "id": "_XN0FjvXy5al",
        "outputId": "207551c4-4742-426e-86f1-6bd8911f9fa3"
      },
      "execution_count": 74,
      "outputs": [
        {
          "output_type": "execute_result",
          "data": {
            "text/plain": [
              "           price  item_seq_number  image_top_1  deal_probability\n",
              "0          400.0                2       1008.0           0.12789\n",
              "1         3000.0               19        692.0           0.00000\n",
              "2         4000.0                9       3032.0           0.43177\n",
              "3         2200.0              286        796.0           0.80323\n",
              "4        40000.0                3       2264.0           0.20797\n",
              "...          ...              ...          ...               ...\n",
              "1503419    300.0                7         88.0           0.25019\n",
              "1503420    200.0                1       1191.0           0.60000\n",
              "1503421      NaN               50       1202.0           0.39569\n",
              "1503422    350.0               33         87.0           0.00000\n",
              "1503423   1500.0               18        979.0           0.00000\n",
              "\n",
              "[1503424 rows x 4 columns]"
            ],
            "text/html": [
              "\n",
              "  <div id=\"df-614feb43-ac8f-421b-8f7e-bab4d8dd547b\">\n",
              "    <div class=\"colab-df-container\">\n",
              "      <div>\n",
              "<style scoped>\n",
              "    .dataframe tbody tr th:only-of-type {\n",
              "        vertical-align: middle;\n",
              "    }\n",
              "\n",
              "    .dataframe tbody tr th {\n",
              "        vertical-align: top;\n",
              "    }\n",
              "\n",
              "    .dataframe thead th {\n",
              "        text-align: right;\n",
              "    }\n",
              "</style>\n",
              "<table border=\"1\" class=\"dataframe\">\n",
              "  <thead>\n",
              "    <tr style=\"text-align: right;\">\n",
              "      <th></th>\n",
              "      <th>price</th>\n",
              "      <th>item_seq_number</th>\n",
              "      <th>image_top_1</th>\n",
              "      <th>deal_probability</th>\n",
              "    </tr>\n",
              "  </thead>\n",
              "  <tbody>\n",
              "    <tr>\n",
              "      <th>0</th>\n",
              "      <td>400.0</td>\n",
              "      <td>2</td>\n",
              "      <td>1008.0</td>\n",
              "      <td>0.12789</td>\n",
              "    </tr>\n",
              "    <tr>\n",
              "      <th>1</th>\n",
              "      <td>3000.0</td>\n",
              "      <td>19</td>\n",
              "      <td>692.0</td>\n",
              "      <td>0.00000</td>\n",
              "    </tr>\n",
              "    <tr>\n",
              "      <th>2</th>\n",
              "      <td>4000.0</td>\n",
              "      <td>9</td>\n",
              "      <td>3032.0</td>\n",
              "      <td>0.43177</td>\n",
              "    </tr>\n",
              "    <tr>\n",
              "      <th>3</th>\n",
              "      <td>2200.0</td>\n",
              "      <td>286</td>\n",
              "      <td>796.0</td>\n",
              "      <td>0.80323</td>\n",
              "    </tr>\n",
              "    <tr>\n",
              "      <th>4</th>\n",
              "      <td>40000.0</td>\n",
              "      <td>3</td>\n",
              "      <td>2264.0</td>\n",
              "      <td>0.20797</td>\n",
              "    </tr>\n",
              "    <tr>\n",
              "      <th>...</th>\n",
              "      <td>...</td>\n",
              "      <td>...</td>\n",
              "      <td>...</td>\n",
              "      <td>...</td>\n",
              "    </tr>\n",
              "    <tr>\n",
              "      <th>1503419</th>\n",
              "      <td>300.0</td>\n",
              "      <td>7</td>\n",
              "      <td>88.0</td>\n",
              "      <td>0.25019</td>\n",
              "    </tr>\n",
              "    <tr>\n",
              "      <th>1503420</th>\n",
              "      <td>200.0</td>\n",
              "      <td>1</td>\n",
              "      <td>1191.0</td>\n",
              "      <td>0.60000</td>\n",
              "    </tr>\n",
              "    <tr>\n",
              "      <th>1503421</th>\n",
              "      <td>NaN</td>\n",
              "      <td>50</td>\n",
              "      <td>1202.0</td>\n",
              "      <td>0.39569</td>\n",
              "    </tr>\n",
              "    <tr>\n",
              "      <th>1503422</th>\n",
              "      <td>350.0</td>\n",
              "      <td>33</td>\n",
              "      <td>87.0</td>\n",
              "      <td>0.00000</td>\n",
              "    </tr>\n",
              "    <tr>\n",
              "      <th>1503423</th>\n",
              "      <td>1500.0</td>\n",
              "      <td>18</td>\n",
              "      <td>979.0</td>\n",
              "      <td>0.00000</td>\n",
              "    </tr>\n",
              "  </tbody>\n",
              "</table>\n",
              "<p>1503424 rows × 4 columns</p>\n",
              "</div>\n",
              "      <button class=\"colab-df-convert\" onclick=\"convertToInteractive('df-614feb43-ac8f-421b-8f7e-bab4d8dd547b')\"\n",
              "              title=\"Convert this dataframe to an interactive table.\"\n",
              "              style=\"display:none;\">\n",
              "        \n",
              "  <svg xmlns=\"http://www.w3.org/2000/svg\" height=\"24px\"viewBox=\"0 0 24 24\"\n",
              "       width=\"24px\">\n",
              "    <path d=\"M0 0h24v24H0V0z\" fill=\"none\"/>\n",
              "    <path d=\"M18.56 5.44l.94 2.06.94-2.06 2.06-.94-2.06-.94-.94-2.06-.94 2.06-2.06.94zm-11 1L8.5 8.5l.94-2.06 2.06-.94-2.06-.94L8.5 2.5l-.94 2.06-2.06.94zm10 10l.94 2.06.94-2.06 2.06-.94-2.06-.94-.94-2.06-.94 2.06-2.06.94z\"/><path d=\"M17.41 7.96l-1.37-1.37c-.4-.4-.92-.59-1.43-.59-.52 0-1.04.2-1.43.59L10.3 9.45l-7.72 7.72c-.78.78-.78 2.05 0 2.83L4 21.41c.39.39.9.59 1.41.59.51 0 1.02-.2 1.41-.59l7.78-7.78 2.81-2.81c.8-.78.8-2.07 0-2.86zM5.41 20L4 18.59l7.72-7.72 1.47 1.35L5.41 20z\"/>\n",
              "  </svg>\n",
              "      </button>\n",
              "      \n",
              "  <style>\n",
              "    .colab-df-container {\n",
              "      display:flex;\n",
              "      flex-wrap:wrap;\n",
              "      gap: 12px;\n",
              "    }\n",
              "\n",
              "    .colab-df-convert {\n",
              "      background-color: #E8F0FE;\n",
              "      border: none;\n",
              "      border-radius: 50%;\n",
              "      cursor: pointer;\n",
              "      display: none;\n",
              "      fill: #1967D2;\n",
              "      height: 32px;\n",
              "      padding: 0 0 0 0;\n",
              "      width: 32px;\n",
              "    }\n",
              "\n",
              "    .colab-df-convert:hover {\n",
              "      background-color: #E2EBFA;\n",
              "      box-shadow: 0px 1px 2px rgba(60, 64, 67, 0.3), 0px 1px 3px 1px rgba(60, 64, 67, 0.15);\n",
              "      fill: #174EA6;\n",
              "    }\n",
              "\n",
              "    [theme=dark] .colab-df-convert {\n",
              "      background-color: #3B4455;\n",
              "      fill: #D2E3FC;\n",
              "    }\n",
              "\n",
              "    [theme=dark] .colab-df-convert:hover {\n",
              "      background-color: #434B5C;\n",
              "      box-shadow: 0px 1px 3px 1px rgba(0, 0, 0, 0.15);\n",
              "      filter: drop-shadow(0px 1px 2px rgba(0, 0, 0, 0.3));\n",
              "      fill: #FFFFFF;\n",
              "    }\n",
              "  </style>\n",
              "\n",
              "      <script>\n",
              "        const buttonEl =\n",
              "          document.querySelector('#df-614feb43-ac8f-421b-8f7e-bab4d8dd547b button.colab-df-convert');\n",
              "        buttonEl.style.display =\n",
              "          google.colab.kernel.accessAllowed ? 'block' : 'none';\n",
              "\n",
              "        async function convertToInteractive(key) {\n",
              "          const element = document.querySelector('#df-614feb43-ac8f-421b-8f7e-bab4d8dd547b');\n",
              "          const dataTable =\n",
              "            await google.colab.kernel.invokeFunction('convertToInteractive',\n",
              "                                                     [key], {});\n",
              "          if (!dataTable) return;\n",
              "\n",
              "          const docLinkHtml = 'Like what you see? Visit the ' +\n",
              "            '<a target=\"_blank\" href=https://colab.research.google.com/notebooks/data_table.ipynb>data table notebook</a>'\n",
              "            + ' to learn more about interactive tables.';\n",
              "          element.innerHTML = '';\n",
              "          dataTable['output_type'] = 'display_data';\n",
              "          await google.colab.output.renderOutput(dataTable, element);\n",
              "          const docLink = document.createElement('div');\n",
              "          docLink.innerHTML = docLinkHtml;\n",
              "          element.appendChild(docLink);\n",
              "        }\n",
              "      </script>\n",
              "    </div>\n",
              "  </div>\n",
              "  "
            ]
          },
          "metadata": {},
          "execution_count": 74
        }
      ]
    },
    {
      "cell_type": "code",
      "source": [
        "# Датасет без целевой переменной\n",
        "target = train_num['deal_probability']\n",
        "train_num = train_num.drop('deal_probability', axis=1)\n",
        "train_num\n"
      ],
      "metadata": {
        "colab": {
          "base_uri": "https://localhost:8080/",
          "height": 424
        },
        "id": "CQCDqPBA3PKI",
        "outputId": "f9794b01-89be-4ba4-d62c-115070ec52b0"
      },
      "execution_count": 75,
      "outputs": [
        {
          "output_type": "execute_result",
          "data": {
            "text/plain": [
              "           price  item_seq_number  image_top_1\n",
              "0          400.0                2       1008.0\n",
              "1         3000.0               19        692.0\n",
              "2         4000.0                9       3032.0\n",
              "3         2200.0              286        796.0\n",
              "4        40000.0                3       2264.0\n",
              "...          ...              ...          ...\n",
              "1503419    300.0                7         88.0\n",
              "1503420    200.0                1       1191.0\n",
              "1503421      NaN               50       1202.0\n",
              "1503422    350.0               33         87.0\n",
              "1503423   1500.0               18        979.0\n",
              "\n",
              "[1503424 rows x 3 columns]"
            ],
            "text/html": [
              "\n",
              "  <div id=\"df-9f616b94-7aaf-41e8-9d9f-24d147d90bb0\">\n",
              "    <div class=\"colab-df-container\">\n",
              "      <div>\n",
              "<style scoped>\n",
              "    .dataframe tbody tr th:only-of-type {\n",
              "        vertical-align: middle;\n",
              "    }\n",
              "\n",
              "    .dataframe tbody tr th {\n",
              "        vertical-align: top;\n",
              "    }\n",
              "\n",
              "    .dataframe thead th {\n",
              "        text-align: right;\n",
              "    }\n",
              "</style>\n",
              "<table border=\"1\" class=\"dataframe\">\n",
              "  <thead>\n",
              "    <tr style=\"text-align: right;\">\n",
              "      <th></th>\n",
              "      <th>price</th>\n",
              "      <th>item_seq_number</th>\n",
              "      <th>image_top_1</th>\n",
              "    </tr>\n",
              "  </thead>\n",
              "  <tbody>\n",
              "    <tr>\n",
              "      <th>0</th>\n",
              "      <td>400.0</td>\n",
              "      <td>2</td>\n",
              "      <td>1008.0</td>\n",
              "    </tr>\n",
              "    <tr>\n",
              "      <th>1</th>\n",
              "      <td>3000.0</td>\n",
              "      <td>19</td>\n",
              "      <td>692.0</td>\n",
              "    </tr>\n",
              "    <tr>\n",
              "      <th>2</th>\n",
              "      <td>4000.0</td>\n",
              "      <td>9</td>\n",
              "      <td>3032.0</td>\n",
              "    </tr>\n",
              "    <tr>\n",
              "      <th>3</th>\n",
              "      <td>2200.0</td>\n",
              "      <td>286</td>\n",
              "      <td>796.0</td>\n",
              "    </tr>\n",
              "    <tr>\n",
              "      <th>4</th>\n",
              "      <td>40000.0</td>\n",
              "      <td>3</td>\n",
              "      <td>2264.0</td>\n",
              "    </tr>\n",
              "    <tr>\n",
              "      <th>...</th>\n",
              "      <td>...</td>\n",
              "      <td>...</td>\n",
              "      <td>...</td>\n",
              "    </tr>\n",
              "    <tr>\n",
              "      <th>1503419</th>\n",
              "      <td>300.0</td>\n",
              "      <td>7</td>\n",
              "      <td>88.0</td>\n",
              "    </tr>\n",
              "    <tr>\n",
              "      <th>1503420</th>\n",
              "      <td>200.0</td>\n",
              "      <td>1</td>\n",
              "      <td>1191.0</td>\n",
              "    </tr>\n",
              "    <tr>\n",
              "      <th>1503421</th>\n",
              "      <td>NaN</td>\n",
              "      <td>50</td>\n",
              "      <td>1202.0</td>\n",
              "    </tr>\n",
              "    <tr>\n",
              "      <th>1503422</th>\n",
              "      <td>350.0</td>\n",
              "      <td>33</td>\n",
              "      <td>87.0</td>\n",
              "    </tr>\n",
              "    <tr>\n",
              "      <th>1503423</th>\n",
              "      <td>1500.0</td>\n",
              "      <td>18</td>\n",
              "      <td>979.0</td>\n",
              "    </tr>\n",
              "  </tbody>\n",
              "</table>\n",
              "<p>1503424 rows × 3 columns</p>\n",
              "</div>\n",
              "      <button class=\"colab-df-convert\" onclick=\"convertToInteractive('df-9f616b94-7aaf-41e8-9d9f-24d147d90bb0')\"\n",
              "              title=\"Convert this dataframe to an interactive table.\"\n",
              "              style=\"display:none;\">\n",
              "        \n",
              "  <svg xmlns=\"http://www.w3.org/2000/svg\" height=\"24px\"viewBox=\"0 0 24 24\"\n",
              "       width=\"24px\">\n",
              "    <path d=\"M0 0h24v24H0V0z\" fill=\"none\"/>\n",
              "    <path d=\"M18.56 5.44l.94 2.06.94-2.06 2.06-.94-2.06-.94-.94-2.06-.94 2.06-2.06.94zm-11 1L8.5 8.5l.94-2.06 2.06-.94-2.06-.94L8.5 2.5l-.94 2.06-2.06.94zm10 10l.94 2.06.94-2.06 2.06-.94-2.06-.94-.94-2.06-.94 2.06-2.06.94z\"/><path d=\"M17.41 7.96l-1.37-1.37c-.4-.4-.92-.59-1.43-.59-.52 0-1.04.2-1.43.59L10.3 9.45l-7.72 7.72c-.78.78-.78 2.05 0 2.83L4 21.41c.39.39.9.59 1.41.59.51 0 1.02-.2 1.41-.59l7.78-7.78 2.81-2.81c.8-.78.8-2.07 0-2.86zM5.41 20L4 18.59l7.72-7.72 1.47 1.35L5.41 20z\"/>\n",
              "  </svg>\n",
              "      </button>\n",
              "      \n",
              "  <style>\n",
              "    .colab-df-container {\n",
              "      display:flex;\n",
              "      flex-wrap:wrap;\n",
              "      gap: 12px;\n",
              "    }\n",
              "\n",
              "    .colab-df-convert {\n",
              "      background-color: #E8F0FE;\n",
              "      border: none;\n",
              "      border-radius: 50%;\n",
              "      cursor: pointer;\n",
              "      display: none;\n",
              "      fill: #1967D2;\n",
              "      height: 32px;\n",
              "      padding: 0 0 0 0;\n",
              "      width: 32px;\n",
              "    }\n",
              "\n",
              "    .colab-df-convert:hover {\n",
              "      background-color: #E2EBFA;\n",
              "      box-shadow: 0px 1px 2px rgba(60, 64, 67, 0.3), 0px 1px 3px 1px rgba(60, 64, 67, 0.15);\n",
              "      fill: #174EA6;\n",
              "    }\n",
              "\n",
              "    [theme=dark] .colab-df-convert {\n",
              "      background-color: #3B4455;\n",
              "      fill: #D2E3FC;\n",
              "    }\n",
              "\n",
              "    [theme=dark] .colab-df-convert:hover {\n",
              "      background-color: #434B5C;\n",
              "      box-shadow: 0px 1px 3px 1px rgba(0, 0, 0, 0.15);\n",
              "      filter: drop-shadow(0px 1px 2px rgba(0, 0, 0, 0.3));\n",
              "      fill: #FFFFFF;\n",
              "    }\n",
              "  </style>\n",
              "\n",
              "      <script>\n",
              "        const buttonEl =\n",
              "          document.querySelector('#df-9f616b94-7aaf-41e8-9d9f-24d147d90bb0 button.colab-df-convert');\n",
              "        buttonEl.style.display =\n",
              "          google.colab.kernel.accessAllowed ? 'block' : 'none';\n",
              "\n",
              "        async function convertToInteractive(key) {\n",
              "          const element = document.querySelector('#df-9f616b94-7aaf-41e8-9d9f-24d147d90bb0');\n",
              "          const dataTable =\n",
              "            await google.colab.kernel.invokeFunction('convertToInteractive',\n",
              "                                                     [key], {});\n",
              "          if (!dataTable) return;\n",
              "\n",
              "          const docLinkHtml = 'Like what you see? Visit the ' +\n",
              "            '<a target=\"_blank\" href=https://colab.research.google.com/notebooks/data_table.ipynb>data table notebook</a>'\n",
              "            + ' to learn more about interactive tables.';\n",
              "          element.innerHTML = '';\n",
              "          dataTable['output_type'] = 'display_data';\n",
              "          await google.colab.output.renderOutput(dataTable, element);\n",
              "          const docLink = document.createElement('div');\n",
              "          docLink.innerHTML = docLinkHtml;\n",
              "          element.appendChild(docLink);\n",
              "        }\n",
              "      </script>\n",
              "    </div>\n",
              "  </div>\n",
              "  "
            ]
          },
          "metadata": {},
          "execution_count": 75
        }
      ]
    },
    {
      "cell_type": "code",
      "source": [
        "# Пропуски\n",
        "train_num.isna().sum()"
      ],
      "metadata": {
        "colab": {
          "base_uri": "https://localhost:8080/"
        },
        "id": "-yGAF68_rjPi",
        "outputId": "b20b8d29-addb-4ecb-f00b-5968c22593a8"
      },
      "execution_count": 76,
      "outputs": [
        {
          "output_type": "execute_result",
          "data": {
            "text/plain": [
              "price               85362\n",
              "item_seq_number         0\n",
              "image_top_1        112588\n",
              "dtype: int64"
            ]
          },
          "metadata": {},
          "execution_count": 76
        }
      ]
    },
    {
      "cell_type": "code",
      "source": [
        "# Обработка пропусков\n",
        "cols = ['price', 'image_top_1']\n",
        "for col in cols:\n",
        "  condition = train_num[col].isna()\n",
        "  train_num.loc[condition, col] = train_num[col].median()"
      ],
      "metadata": {
        "id": "lhQNL-uJrzXR"
      },
      "execution_count": 77,
      "outputs": []
    },
    {
      "cell_type": "code",
      "source": [
        "train_num.isna().sum()"
      ],
      "metadata": {
        "colab": {
          "base_uri": "https://localhost:8080/"
        },
        "id": "DWpRP-CMttrm",
        "outputId": "66b9b0a0-8441-40cd-a553-2693f3c3a0c4"
      },
      "execution_count": 78,
      "outputs": [
        {
          "output_type": "execute_result",
          "data": {
            "text/plain": [
              "price              0\n",
              "item_seq_number    0\n",
              "image_top_1        0\n",
              "dtype: int64"
            ]
          },
          "metadata": {},
          "execution_count": 78
        }
      ]
    },
    {
      "cell_type": "code",
      "source": [
        "target.shape"
      ],
      "metadata": {
        "colab": {
          "base_uri": "https://localhost:8080/"
        },
        "id": "3wBiU-9r47Am",
        "outputId": "af1a183b-fdda-4e52-a826-7bfcb3ed9192"
      },
      "execution_count": 79,
      "outputs": [
        {
          "output_type": "execute_result",
          "data": {
            "text/plain": [
              "(1503424,)"
            ]
          },
          "metadata": {},
          "execution_count": 79
        }
      ]
    },
    {
      "cell_type": "code",
      "source": [
        "target"
      ],
      "metadata": {
        "colab": {
          "base_uri": "https://localhost:8080/"
        },
        "id": "MMPgfu_zfhCH",
        "outputId": "068cf992-f181-42c0-d72d-8c4f9887cb48"
      },
      "execution_count": 80,
      "outputs": [
        {
          "output_type": "execute_result",
          "data": {
            "text/plain": [
              "0          0.12789\n",
              "1          0.00000\n",
              "2          0.43177\n",
              "3          0.80323\n",
              "4          0.20797\n",
              "            ...   \n",
              "1503419    0.25019\n",
              "1503420    0.60000\n",
              "1503421    0.39569\n",
              "1503422    0.00000\n",
              "1503423    0.00000\n",
              "Name: deal_probability, Length: 1503424, dtype: float64"
            ]
          },
          "metadata": {},
          "execution_count": 80
        }
      ]
    },
    {
      "cell_type": "code",
      "source": [
        "target_2 = pd.DataFrame(target)#, columns=['target'])\n",
        "target_2.head()"
      ],
      "metadata": {
        "colab": {
          "base_uri": "https://localhost:8080/",
          "height": 206
        },
        "id": "8NKivddGeHB1",
        "outputId": "670cab73-6456-47ac-8c74-22601fa4b72c"
      },
      "execution_count": 81,
      "outputs": [
        {
          "output_type": "execute_result",
          "data": {
            "text/plain": [
              "   deal_probability\n",
              "0           0.12789\n",
              "1           0.00000\n",
              "2           0.43177\n",
              "3           0.80323\n",
              "4           0.20797"
            ],
            "text/html": [
              "\n",
              "  <div id=\"df-e9c064f3-aa2f-4c5d-8965-41af8bfab4a3\">\n",
              "    <div class=\"colab-df-container\">\n",
              "      <div>\n",
              "<style scoped>\n",
              "    .dataframe tbody tr th:only-of-type {\n",
              "        vertical-align: middle;\n",
              "    }\n",
              "\n",
              "    .dataframe tbody tr th {\n",
              "        vertical-align: top;\n",
              "    }\n",
              "\n",
              "    .dataframe thead th {\n",
              "        text-align: right;\n",
              "    }\n",
              "</style>\n",
              "<table border=\"1\" class=\"dataframe\">\n",
              "  <thead>\n",
              "    <tr style=\"text-align: right;\">\n",
              "      <th></th>\n",
              "      <th>deal_probability</th>\n",
              "    </tr>\n",
              "  </thead>\n",
              "  <tbody>\n",
              "    <tr>\n",
              "      <th>0</th>\n",
              "      <td>0.12789</td>\n",
              "    </tr>\n",
              "    <tr>\n",
              "      <th>1</th>\n",
              "      <td>0.00000</td>\n",
              "    </tr>\n",
              "    <tr>\n",
              "      <th>2</th>\n",
              "      <td>0.43177</td>\n",
              "    </tr>\n",
              "    <tr>\n",
              "      <th>3</th>\n",
              "      <td>0.80323</td>\n",
              "    </tr>\n",
              "    <tr>\n",
              "      <th>4</th>\n",
              "      <td>0.20797</td>\n",
              "    </tr>\n",
              "  </tbody>\n",
              "</table>\n",
              "</div>\n",
              "      <button class=\"colab-df-convert\" onclick=\"convertToInteractive('df-e9c064f3-aa2f-4c5d-8965-41af8bfab4a3')\"\n",
              "              title=\"Convert this dataframe to an interactive table.\"\n",
              "              style=\"display:none;\">\n",
              "        \n",
              "  <svg xmlns=\"http://www.w3.org/2000/svg\" height=\"24px\"viewBox=\"0 0 24 24\"\n",
              "       width=\"24px\">\n",
              "    <path d=\"M0 0h24v24H0V0z\" fill=\"none\"/>\n",
              "    <path d=\"M18.56 5.44l.94 2.06.94-2.06 2.06-.94-2.06-.94-.94-2.06-.94 2.06-2.06.94zm-11 1L8.5 8.5l.94-2.06 2.06-.94-2.06-.94L8.5 2.5l-.94 2.06-2.06.94zm10 10l.94 2.06.94-2.06 2.06-.94-2.06-.94-.94-2.06-.94 2.06-2.06.94z\"/><path d=\"M17.41 7.96l-1.37-1.37c-.4-.4-.92-.59-1.43-.59-.52 0-1.04.2-1.43.59L10.3 9.45l-7.72 7.72c-.78.78-.78 2.05 0 2.83L4 21.41c.39.39.9.59 1.41.59.51 0 1.02-.2 1.41-.59l7.78-7.78 2.81-2.81c.8-.78.8-2.07 0-2.86zM5.41 20L4 18.59l7.72-7.72 1.47 1.35L5.41 20z\"/>\n",
              "  </svg>\n",
              "      </button>\n",
              "      \n",
              "  <style>\n",
              "    .colab-df-container {\n",
              "      display:flex;\n",
              "      flex-wrap:wrap;\n",
              "      gap: 12px;\n",
              "    }\n",
              "\n",
              "    .colab-df-convert {\n",
              "      background-color: #E8F0FE;\n",
              "      border: none;\n",
              "      border-radius: 50%;\n",
              "      cursor: pointer;\n",
              "      display: none;\n",
              "      fill: #1967D2;\n",
              "      height: 32px;\n",
              "      padding: 0 0 0 0;\n",
              "      width: 32px;\n",
              "    }\n",
              "\n",
              "    .colab-df-convert:hover {\n",
              "      background-color: #E2EBFA;\n",
              "      box-shadow: 0px 1px 2px rgba(60, 64, 67, 0.3), 0px 1px 3px 1px rgba(60, 64, 67, 0.15);\n",
              "      fill: #174EA6;\n",
              "    }\n",
              "\n",
              "    [theme=dark] .colab-df-convert {\n",
              "      background-color: #3B4455;\n",
              "      fill: #D2E3FC;\n",
              "    }\n",
              "\n",
              "    [theme=dark] .colab-df-convert:hover {\n",
              "      background-color: #434B5C;\n",
              "      box-shadow: 0px 1px 3px 1px rgba(0, 0, 0, 0.15);\n",
              "      filter: drop-shadow(0px 1px 2px rgba(0, 0, 0, 0.3));\n",
              "      fill: #FFFFFF;\n",
              "    }\n",
              "  </style>\n",
              "\n",
              "      <script>\n",
              "        const buttonEl =\n",
              "          document.querySelector('#df-e9c064f3-aa2f-4c5d-8965-41af8bfab4a3 button.colab-df-convert');\n",
              "        buttonEl.style.display =\n",
              "          google.colab.kernel.accessAllowed ? 'block' : 'none';\n",
              "\n",
              "        async function convertToInteractive(key) {\n",
              "          const element = document.querySelector('#df-e9c064f3-aa2f-4c5d-8965-41af8bfab4a3');\n",
              "          const dataTable =\n",
              "            await google.colab.kernel.invokeFunction('convertToInteractive',\n",
              "                                                     [key], {});\n",
              "          if (!dataTable) return;\n",
              "\n",
              "          const docLinkHtml = 'Like what you see? Visit the ' +\n",
              "            '<a target=\"_blank\" href=https://colab.research.google.com/notebooks/data_table.ipynb>data table notebook</a>'\n",
              "            + ' to learn more about interactive tables.';\n",
              "          element.innerHTML = '';\n",
              "          dataTable['output_type'] = 'display_data';\n",
              "          await google.colab.output.renderOutput(dataTable, element);\n",
              "          const docLink = document.createElement('div');\n",
              "          docLink.innerHTML = docLinkHtml;\n",
              "          element.appendChild(docLink);\n",
              "        }\n",
              "      </script>\n",
              "    </div>\n",
              "  </div>\n",
              "  "
            ]
          },
          "metadata": {},
          "execution_count": 81
        }
      ]
    },
    {
      "cell_type": "code",
      "source": [
        "# Пропуски\n",
        "target_2.isna().sum()"
      ],
      "metadata": {
        "colab": {
          "base_uri": "https://localhost:8080/"
        },
        "id": "nyTdpml5t49R",
        "outputId": "f64d3463-24f7-4690-f2fd-bca3b9169cee"
      },
      "execution_count": 82,
      "outputs": [
        {
          "output_type": "execute_result",
          "data": {
            "text/plain": [
              "deal_probability    0\n",
              "dtype: int64"
            ]
          },
          "metadata": {},
          "execution_count": 82
        }
      ]
    },
    {
      "cell_type": "code",
      "source": [
        "# Делим данные на трейн и тест выборки с random_state=13 и test_size = 0.25\n",
        "X_train, X_test, y_train, y_test = train_test_split(train_num, target_2, test_size=0.25, random_state=13)"
      ],
      "metadata": {
        "id": "e5Qr1le1917D"
      },
      "execution_count": 83,
      "outputs": []
    },
    {
      "cell_type": "code",
      "source": [
        "class MyDataset(Dataset):\n",
        "  \n",
        "    def __init__(self, X, y):\n",
        "        self.X = torch.Tensor(X)\n",
        "        self.y = torch.from_numpy(y).float()\n",
        "\n",
        "    def __len__(self):\n",
        "        return self.X.shape[0]\n",
        "  \n",
        "    def __getitem__(self, index):\n",
        "        return (self.X[index], self.y[index])"
      ],
      "metadata": {
        "id": "pZYLT6z3zfW_"
      },
      "execution_count": 84,
      "outputs": []
    },
    {
      "cell_type": "code",
      "source": [
        "class Perceptron(nn.Module):\n",
        "    def __init__(self, input_dim, output_dim, activation=\"relu\"):\n",
        "        super(Perceptron, self).__init__()\n",
        "        self.fc = nn.Linear(input_dim, output_dim)\n",
        "        self.activation = activation\n",
        "        \n",
        "    def forward(self, x):\n",
        "        x = self.fc(x)\n",
        "        if self.activation==\"relu\":\n",
        "            return F.relu(x)\n",
        "        if self.activation==\"sigmoid\":\n",
        "            return F.sigmoid(x)\n",
        "        raise RuntimeError\n",
        "        \n",
        "\n",
        "class FeedForward(nn.Module):\n",
        "    def __init__(self, input_dim, hidden_dim):\n",
        "        super(FeedForward, self).__init__()\n",
        "        self.bn1 = nn.BatchNorm1d(input_dim)\n",
        "        self.fc1 = Perceptron(input_dim, hidden_dim)\n",
        "        self.bn2 = nn.BatchNorm1d(hidden_dim)\n",
        "        self.dp = nn.Dropout(0.25)\n",
        "        self.fc2 = Perceptron(hidden_dim, 1, \"relu\")\n",
        "        \n",
        "    def forward(self, x):\n",
        "        x = self.bn1(x)\n",
        "        x = self.fc1(x)\n",
        "        x = self.bn2(x)\n",
        "        x = self.dp(x)\n",
        "        x = self.fc2(x)\n",
        "        return x"
      ],
      "metadata": {
        "id": "8KgfIk4kDTyh"
      },
      "execution_count": 85,
      "outputs": []
    },
    {
      "cell_type": "code",
      "source": [
        "net = FeedForward(3, 500)\n",
        "print(net)"
      ],
      "metadata": {
        "colab": {
          "base_uri": "https://localhost:8080/"
        },
        "id": "0umPOYCKZrhm",
        "outputId": "2ec7855c-6b81-42b6-bd08-4960e1fd3fec"
      },
      "execution_count": 86,
      "outputs": [
        {
          "output_type": "stream",
          "name": "stdout",
          "text": [
            "FeedForward(\n",
            "  (bn1): BatchNorm1d(3, eps=1e-05, momentum=0.1, affine=True, track_running_stats=True)\n",
            "  (fc1): Perceptron(\n",
            "    (fc): Linear(in_features=3, out_features=500, bias=True)\n",
            "  )\n",
            "  (bn2): BatchNorm1d(500, eps=1e-05, momentum=0.1, affine=True, track_running_stats=True)\n",
            "  (dp): Dropout(p=0.25, inplace=False)\n",
            "  (fc2): Perceptron(\n",
            "    (fc): Linear(in_features=500, out_features=1, bias=True)\n",
            "  )\n",
            ")\n"
          ]
        }
      ]
    },
    {
      "cell_type": "code",
      "source": [
        "class Trainer():\n",
        "    \"\"\"\n",
        "    Parameters:\n",
        "        dataset: пользовательский класс, предобрабатывающий данные\n",
        "        loss_f: функция потерь\n",
        "        learning_rate: величина градиентного шага\n",
        "        epoch_amount: общее количество эпох\n",
        "        batch_size: размер одного бача\n",
        "        max_batches_per_epoch: максимальное количество бачей, \n",
        "                               подаваемых в модель в одну эпоху\n",
        "        device: устройство для вычислений\n",
        "        early_stopping: количество эпох без улучшений до остановки обучения\n",
        "        optim: оптимизатор\n",
        "        scheduler: регулятор градиентного шага\n",
        "        permutate: перемешивание тренировочной выборки перед обучением\n",
        "\n",
        "    Attributes:\n",
        "        start_model: необученная модель\n",
        "        best_model: модель, после обучения\n",
        "        train_loss: средние значения функции потерь на тренировочных \n",
        "                    данных в каждой эпохе\n",
        "        val_loss: средние значения функции потерь на валидационных \n",
        "                  данных в каждой эпохе\n",
        "\n",
        "    Methods:\n",
        "        fit: обучение модели\n",
        "        predict: возвращает предсказание обученной моделью\n",
        "\n",
        "    \"\"\"\n",
        "    def __init__(self,  dataset, net, loss_f, learning_rate=1e-4, \n",
        "                epoch_amount=10, batch_size=128, \n",
        "                max_batches_per_epoch=None,\n",
        "                device='cpu', early_stopping=10, \n",
        "                optim=torch.optim.Adam, \n",
        "                scheduler=None, permutate=True):\n",
        "        \n",
        "        self.loss_f = loss_f\n",
        "        self.learning_rate = learning_rate\n",
        "        self.epoch_amount = epoch_amount\n",
        "        self.batch_size = batch_size\n",
        "        self.max_batches_per_epoch = max_batches_per_epoch\n",
        "        self.device = device\n",
        "        self.early_stopping = early_stopping\n",
        "        self.optim = optim\n",
        "        self.scheduler = scheduler\n",
        "        self.permutate = permutate\n",
        "        self.dataset = dataset\n",
        "        self.start_model = net\n",
        "        self.best_model = net\n",
        "\n",
        "        self.train_loss = []\n",
        "        self.val_loss = []\n",
        "\n",
        "    def predict(self, X):\n",
        "        return self.best_model(X)\n",
        "\n",
        "    def fit(self, X_train, X_test, y_train, y_test):\n",
        "\n",
        "        Net = self.start_model\n",
        "            \n",
        "        device = torch.device(self.device)\n",
        "\n",
        "        Net.to(self.device)\n",
        "\n",
        "        optimizer = self.optim(Net.parameters(), lr=self.learning_rate)\n",
        "        \n",
        "        if self.scheduler is not None:\n",
        "            scheduler = self.scheduler(optimizer)\n",
        "\n",
        "        train = self.dataset(X_train, y_train)\n",
        "        val = self.dataset(X_test, y_test)  \n",
        "\n",
        "        train = DataLoader(train, batch_size=self.batch_size, shuffle=self.permutate, num_workers=1) \n",
        "        val = DataLoader(val, batch_size=self.batch_size, shuffle=False, num_workers=1)\n",
        "\n",
        "        best_val_loss = float('inf') # Лучшее значение функции потерь на валидационной выборке\n",
        "                                     # функции потерь на валидационной выборке\n",
        "        best_ep = 0                  # Эпоха, на которой достигалось лучшее \n",
        "                                     # значение функции потерь на валидационной выборке\n",
        "\n",
        "        for epoch in range(self.epoch_amount): \n",
        "            start = dt.datetime.now()\n",
        "            print(f'Эпоха: {epoch}', end=' ')\n",
        "            Net.train()\n",
        "            mean_loss = 0\n",
        "            batch_n = 0\n",
        "\n",
        "            for batch_X, target in train:\n",
        "                if self.max_batches_per_epoch is not None:\n",
        "                    if batch_n >= self.max_batches_per_epoch:\n",
        "                        break\n",
        "                optimizer.zero_grad()\n",
        "\n",
        "                batch_X = batch_X.to(self.device)\n",
        "                target = target.to(self.device)\n",
        "\n",
        "                predicted_values = Net(batch_X)\n",
        "                loss = self.loss_f(predicted_values, target)\n",
        "                loss.backward()\n",
        "                optimizer.step()\n",
        "\n",
        "                mean_loss += float(loss)\n",
        "                batch_n += 1\n",
        "        \n",
        "            mean_loss /= batch_n\n",
        "            self.train_loss.append(mean_loss)\n",
        "            print(f'Loss_train: {mean_loss}, {dt.datetime.now() - start} сек')\n",
        "\n",
        "            Net.eval()\n",
        "            mean_loss = 0\n",
        "            batch_n = 0\n",
        "\n",
        "            with torch.no_grad():\n",
        "                for batch_X, target in val:\n",
        "                    if self.max_batches_per_epoch is not None:\n",
        "                        if batch_n >= self.max_batches_per_epoch:\n",
        "                            break\n",
        "                batch_X = batch_X.to(self.device)\n",
        "                target = target.to(self.device)\n",
        "\n",
        "                predicted_values = Net(batch_X)\n",
        "                loss = self.loss_f(predicted_values, target)\n",
        "\n",
        "                mean_loss += float(loss)\n",
        "                batch_n += 1\n",
        "        \n",
        "            mean_loss /= batch_n\n",
        "            self.val_loss.append(mean_loss)\n",
        "            print(f'Loss_val: {mean_loss}')\n",
        "\n",
        "            if mean_loss < best_val_loss:\n",
        "                self.best_model = Net\n",
        "                best_val_loss = mean_loss\n",
        "                best_ep = epoch\n",
        "            elif epoch - best_ep > self.early_stopping:\n",
        "                print(f'{self.early_stopping} без улучшений. Прекращаем обучение...')\n",
        "                break\n",
        "            if self.scheduler is not None:\n",
        "                scheduler.step()\n",
        "            print()"
      ],
      "metadata": {
        "id": "YdOhshbvui83"
      },
      "execution_count": 96,
      "outputs": []
    },
    {
      "cell_type": "code",
      "source": [
        "# Реализация log RMSE loss\n",
        "class LogRMSELoss(torch.nn.Module):\n",
        "    def __init__(self):\n",
        "        super(LogRMSELoss,self).__init__()\n",
        "\n",
        "    def forward(self,x,y):\n",
        "        criterion = nn.MSELoss()\n",
        "        loss_temp = torch.sqrt(criterion(x, y))\n",
        "        loss = torch.log(loss_temp)\n",
        "        return loss\n",
        "\n",
        "lrl = LogRMSELoss()"
      ],
      "metadata": {
        "id": "_teUzA_6jxlj"
      },
      "execution_count": 88,
      "outputs": []
    },
    {
      "cell_type": "code",
      "source": [
        "# Обучение с оптимизатором SGD\n",
        "params = {\n",
        "    'dataset': MyDataset,\n",
        "    'net': net,\n",
        "    'epoch_amount': 10, \n",
        "    'learning_rate': 1e-3,\n",
        "    'early_stopping': 25,\n",
        "    'loss_f':  lrl,\n",
        "    'optim': torch.optim.SGD,\n",
        "}\n",
        "\n",
        "clf = Trainer(**params)\n",
        "clf.fit(X_train.to_numpy(), X_test.to_numpy(), y_train.to_numpy(), y_test.to_numpy())"
      ],
      "metadata": {
        "colab": {
          "base_uri": "https://localhost:8080/"
        },
        "id": "iwyGb4xNZpXr",
        "outputId": "8c7651af-d13f-4f04-bbbb-542c221d7ae8"
      },
      "execution_count": 101,
      "outputs": [
        {
          "output_type": "stream",
          "name": "stdout",
          "text": [
            "Эпоха: 0 Loss_train: -1.2336715395347755, 0:00:43.923300 сек\n",
            "Loss_val: -1.0470187664031982\n",
            "\n",
            "Эпоха: 1 Loss_train: -1.2334972753156734, 0:00:42.890242 сек\n",
            "Loss_val: -1.0470187664031982\n",
            "\n",
            "Эпоха: 2 Loss_train: -1.2333816897652612, 0:00:42.198604 сек\n",
            "Loss_val: -1.0470187664031982\n",
            "\n",
            "Эпоха: 3 Loss_train: -1.23381753809471, 0:00:42.784715 сек\n",
            "Loss_val: -1.0470187664031982\n",
            "\n",
            "Эпоха: 4 Loss_train: -1.233582522284565, 0:00:43.280338 сек\n",
            "Loss_val: -1.0470187664031982\n",
            "\n",
            "Эпоха: 5 Loss_train: -1.23365957939936, 0:00:43.355315 сек\n",
            "Loss_val: -1.0470187664031982\n",
            "\n",
            "Эпоха: 6 Loss_train: -1.2337221500077935, 0:00:43.281620 сек\n",
            "Loss_val: -1.0470187664031982\n",
            "\n",
            "Эпоха: 7 Loss_train: -1.2334929039137317, 0:00:42.292744 сек\n",
            "Loss_val: -1.0470187664031982\n",
            "\n",
            "Эпоха: 8 Loss_train: -1.2338153723352479, 0:00:41.194457 сек\n",
            "Loss_val: -1.0470187664031982\n",
            "\n",
            "Эпоха: 9 Loss_train: -1.2336765471976947, 0:00:41.941830 сек\n",
            "Loss_val: -1.0470187664031982\n",
            "\n"
          ]
        }
      ]
    },
    {
      "cell_type": "code",
      "source": [
        "# Визуализация\n",
        "def plot_loss(Loss_train, Loss_val):\n",
        "    plt.figure(figsize=(12, 5))\n",
        "    plt.plot(range(len(Loss_train)), Loss_train, color='orange', label='train', linestyle='--')\n",
        "    plt.plot(range(len(Loss_val)), Loss_val, color='blue', marker='o', label='val')\n",
        "    plt.legend()\n",
        "    plt.show()\n",
        "\n",
        "plot_loss(clf.train_loss, clf.val_loss)"
      ],
      "metadata": {
        "colab": {
          "base_uri": "https://localhost:8080/",
          "height": 320
        },
        "id": "Xgy-2-IeCOu_",
        "outputId": "7da3fb34-63b6-4ae6-a719-6218bc409ac5"
      },
      "execution_count": 102,
      "outputs": [
        {
          "output_type": "display_data",
          "data": {
            "text/plain": [
              "<Figure size 864x360 with 1 Axes>"
            ],
            "image/png": "[encoded data removed]"
          },
          "metadata": {
            "needs_background": "light"
          }
        }
      ]
    },
    {
      "cell_type": "code",
      "source": [
        "# Обучение с оптимизатором Adam \n",
        "params = {\n",
        "    'dataset': MyDataset,\n",
        "    'net': net,\n",
        "    'epoch_amount': 10, \n",
        "    'learning_rate': 1e-3,\n",
        "    'early_stopping': 25,\n",
        "    'loss_f':  lrl,\n",
        "    'optim': torch.optim.Adam,\n",
        "}\n",
        "\n",
        "clf_2 = Trainer(**params)\n",
        "clf_2.fit(X_train.to_numpy(), X_test.to_numpy(), y_train.to_numpy(), y_test.to_numpy())"
      ],
      "metadata": {
        "colab": {
          "base_uri": "https://localhost:8080/"
        },
        "id": "OedkvC3HC-Zi",
        "outputId": "d1bb6ef4-c937-45d2-f194-eebf2d7b1ad7"
      },
      "execution_count": 103,
      "outputs": [
        {
          "output_type": "stream",
          "name": "stdout",
          "text": [
            "Эпоха: 0 Loss_train: -1.2338661313192256, 0:00:48.117400 сек\n",
            "Loss_val: -1.0470187664031982\n",
            "\n",
            "Эпоха: 1 Loss_train: -1.233680725929821, 0:00:47.642116 сек\n",
            "Loss_val: -1.0470187664031982\n",
            "\n",
            "Эпоха: 2 Loss_train: -1.233743089714873, 0:00:47.922552 сек\n",
            "Loss_val: -1.0470187664031982\n",
            "\n",
            "Эпоха: 3 Loss_train: -1.2335790295403337, 0:00:48.699372 сек\n",
            "Loss_val: -1.0470187664031982\n",
            "\n",
            "Эпоха: 4 Loss_train: -1.2338808720147028, 0:00:49.087935 сек\n",
            "Loss_val: -1.0470187664031982\n",
            "\n",
            "Эпоха: 5 Loss_train: -1.233519485061745, 0:00:47.676040 сек\n",
            "Loss_val: -1.0470187664031982\n",
            "\n",
            "Эпоха: 6 Loss_train: -1.2338047633376754, 0:00:47.384848 сек\n",
            "Loss_val: -1.0470187664031982\n",
            "\n",
            "Эпоха: 7 Loss_train: -1.2338603071065009, 0:00:47.741193 сек\n",
            "Loss_val: -1.0470187664031982\n",
            "\n",
            "Эпоха: 8 Loss_train: -1.2335746354399149, 0:00:47.913094 сек\n",
            "Loss_val: -1.0470187664031982\n",
            "\n",
            "Эпоха: 9 Loss_train: -1.2333535280252017, 0:00:47.136308 сек\n",
            "Loss_val: -1.0470187664031982\n",
            "\n"
          ]
        }
      ]
    },
    {
      "cell_type": "code",
      "source": [
        "# Визуализация\n",
        "plot_loss(clf_2.train_loss, clf_2.val_loss)"
      ],
      "metadata": {
        "colab": {
          "base_uri": "https://localhost:8080/",
          "height": 320
        },
        "id": "VrNHtQ_zDjkB",
        "outputId": "043a3e6d-67fd-4655-8da1-4eb628fefbaf"
      },
      "execution_count": 104,
      "outputs": [
        {
          "output_type": "display_data",
          "data": {
            "text/plain": [
              "<Figure size 864x360 with 1 Axes>"
            ],
            "image/png": "[encoded data removed]"
          },
          "metadata": {
            "needs_background": "light"
          }
        }
      ]
    },
    {
      "cell_type": "code",
      "source": [
        "# Обучение с оптимизатором RMSprop \n",
        "params = {\n",
        "    'dataset': MyDataset,\n",
        "    'net': net,\n",
        "    'epoch_amount': 10, \n",
        "    'learning_rate': 1e-3,\n",
        "    'early_stopping': 25,\n",
        "    'loss_f':  lrl,\n",
        "    'optim': torch.optim.RMSprop,\n",
        "}\n",
        "\n",
        "clf_3 = Trainer(**params)\n",
        "clf_3.fit(X_train.to_numpy(), X_test.to_numpy(), y_train.to_numpy(), y_test.to_numpy())"
      ],
      "metadata": {
        "colab": {
          "base_uri": "https://localhost:8080/"
        },
        "id": "BAuTQLJnDSVS",
        "outputId": "0a476f80-32b4-490d-926d-bdf6fc1b2709"
      },
      "execution_count": 105,
      "outputs": [
        {
          "output_type": "stream",
          "name": "stdout",
          "text": [
            "Эпоха: 0 Loss_train: -1.2336507565046952, 0:00:45.002463 сек\n",
            "Loss_val: -1.0470187664031982\n",
            "\n",
            "Эпоха: 1 Loss_train: -1.2335755703668454, 0:00:44.723086 сек\n",
            "Loss_val: -1.0470187664031982\n",
            "\n",
            "Эпоха: 2 Loss_train: -1.2339440392920162, 0:00:44.718847 сек\n",
            "Loss_val: -1.0470187664031982\n",
            "\n",
            "Эпоха: 3 Loss_train: -1.2336273432792788, 0:00:44.933805 сек\n",
            "Loss_val: -1.0470187664031982\n",
            "\n",
            "Эпоха: 4 Loss_train: -1.2336241681310565, 0:00:44.358187 сек\n",
            "Loss_val: -1.0470187664031982\n",
            "\n",
            "Эпоха: 5 Loss_train: -1.2335042276596238, 0:00:48.692999 сек\n",
            "Loss_val: -1.0470187664031982\n",
            "\n",
            "Эпоха: 6 Loss_train: -1.2337573096781935, 0:00:47.746074 сек\n",
            "Loss_val: -1.0470187664031982\n",
            "\n",
            "Эпоха: 7 Loss_train: -1.2336795045081927, 0:00:47.521652 сек\n",
            "Loss_val: -1.0470187664031982\n",
            "\n",
            "Эпоха: 8 Loss_train: -1.2336158106803352, 0:00:46.991909 сек\n",
            "Loss_val: -1.0470187664031982\n",
            "\n",
            "Эпоха: 9 Loss_train: -1.2337177889707005, 0:00:48.027470 сек\n",
            "Loss_val: -1.0470187664031982\n",
            "\n"
          ]
        }
      ]
    },
    {
      "cell_type": "code",
      "source": [
        "# Визуализация\n",
        "plot_loss(clf_3.train_loss, clf_3.val_loss)"
      ],
      "metadata": {
        "colab": {
          "base_uri": "https://localhost:8080/",
          "height": 320
        },
        "id": "hhtRVP22DlGU",
        "outputId": "397c9c84-f6a1-4a53-9288-28c174dc7ed8"
      },
      "execution_count": 106,
      "outputs": [
        {
          "output_type": "display_data",
          "data": {
            "text/plain": [
              "<Figure size 864x360 with 1 Axes>"
            ],
            "image/png": "[encoded data removed]"
          },
          "metadata": {
            "needs_background": "light"
          }
        }
      ]
    },
    {
      "cell_type": "markdown",
      "source": [
        "__Выводы:__\n",
        "\n",
        "Применение различных оптимизаторов в процессе обучения модели не привела ни к каким изменениям."
      ],
      "metadata": {
        "id": "X1fhnIZSJNX9"
      }
    }
  ],
  "metadata": {
    "kernelspec": {
      "display_name": "Python 3",
      "language": "python",
      "name": "python3"
    },
    "language_info": {
      "codemirror_mode": {
        "name": "ipython",
        "version": 3
      },
      "file_extension": ".py",
      "mimetype": "text/x-python",
      "name": "python",
      "nbconvert_exporter": "python",
      "pygments_lexer": "ipython3",
      "version": "3.7.4"
    },
    "colab": {
      "name": "HW_03.ipynb",
      "provenance": []
    },
    "gpuClass": "standard"
  },
  "nbformat": 4,
  "nbformat_minor": 0
}